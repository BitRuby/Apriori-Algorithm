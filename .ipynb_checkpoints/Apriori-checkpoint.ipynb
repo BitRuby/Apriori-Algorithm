{
 "cells": [
  {
   "cell_type": "code",
   "execution_count": 1,
   "id": "9249c1f4",
   "metadata": {},
   "outputs": [],
   "source": [
    "import pandas as pd\n",
    "# df = pd.read_csv('Groceries_dataset.csv')\n",
    "# groceries_time = pd.DataFrame(df.groupby('Date')['itemDescription'].nunique().index)\n",
    "# groceries_time['members_count'] = df.groupby('Date')['Member_number'].nunique().values\n",
    "# groceries_time['items_count'] = df.groupby('Date')['itemDescription'].nunique().values\n",
    "# groceries_time['items'] = df.groupby('Date')['itemDescription'].unique().values\n",
    "# groceries_time.set_index('Date',inplace=True)\n",
    "# transactions = groceries_time['items'].tolist()\n",
    "\n",
    "transactions = [\n",
    "    [\"Jam\", \"Perfume\", \"Snacks\", \"Soap\"],\n",
    "    [\"Beer\", \"Bread\", \"Jam\", \"Snacks\"],\n",
    "    [\"Potato\", \"Onion\"],\n",
    "    [\"Bread\", 'Chocolate', \"Coffee\", \"Jam\"],\n",
    "    [\"Beer\", \"Coffee\", \"Perfume\", \"Snacks\", \"Soap\"],\n",
    "    [\"Bread\", \"Chocolate\", \"Jam\", \"Soap\"],\n",
    "    [\"Onion\", \"Perfume\"],\n",
    "    [\"Bread\", \"Chocolate\", \"Snacks\"],\n",
    "    [\"Chocolate\", \"Perfume\", \"Soap\"],\n",
    "    [\"Beer\", \"Bread\", \"Jam\", \"Snacks\"]\n",
    "]\n"
   ]
  },
  {
   "cell_type": "code",
   "execution_count": 2,
   "id": "130816ad",
   "metadata": {},
   "outputs": [],
   "source": [
    "def create1Itemset(txs):\n",
    "    tempItemSet = set()\n",
    "    for itemSet in txs:\n",
    "        for item in itemSet:\n",
    "            tempItemSet.add(frozenset([item]))\n",
    "    return tempItemSet"
   ]
  },
  {
   "cell_type": "code",
   "execution_count": 3,
   "id": "71d6dc0c",
   "metadata": {},
   "outputs": [],
   "source": [
    "def calculate_support(itemset, txs, global_itemset_with_supports):\n",
    "    new_itemset = {}\n",
    "    for item in itemset:\n",
    "        if item not in global_itemset_with_supports:\n",
    "            itemCount = 0\n",
    "            for tx in txs:\n",
    "                result = all(it in tx for it in item)\n",
    "                if result:\n",
    "                    itemCount += 1\n",
    "            new_itemset[item] = itemCount / len(txs)\n",
    "            global_itemset_with_supports[item] = itemCount / len(txs)\n",
    "        else:\n",
    "            new_itemset[item] = global_itemset_with_supports[item]\n",
    "    return new_itemset, global_itemset_with_supports"
   ]
  },
  {
   "cell_type": "code",
   "execution_count": 4,
   "id": "e4b63844",
   "metadata": {},
   "outputs": [],
   "source": [
    "def prune(itemset, transactions, min_support):\n",
    "    new_itemset = {}\n",
    "    for k, v in itemset.items():\n",
    "        if v >= min_support:\n",
    "            new_itemset[k] = v\n",
    "        else:\n",
    "            transactions = [[item for item in row if item not in list(k)] for row in transactions]\n",
    "    print(transactions)\n",
    "    return new_itemset, transactions"
   ]
  },
  {
   "cell_type": "code",
   "execution_count": 5,
   "id": "8e2a97de",
   "metadata": {},
   "outputs": [],
   "source": [
    "def getUnion(itemSet, length):\n",
    "    return set([i.union(j) for i in itemSet for j in itemSet if len(i.union(j)) == length])"
   ]
  },
  {
   "cell_type": "code",
   "execution_count": 6,
   "id": "bd93ca4b",
   "metadata": {},
   "outputs": [],
   "source": [
    "from itertools import chain, combinations\n",
    "def powerset(s):\n",
    "    return chain.from_iterable(combinations(s, r) for r in range(1, len(s)))"
   ]
  },
  {
   "cell_type": "code",
   "execution_count": 7,
   "id": "dc9800a4",
   "metadata": {},
   "outputs": [],
   "source": [
    "def association_rules(itemset, global_itemset_with_supports, min_confidence, min_lift):\n",
    "    rules = []\n",
    "    for item in itemset:\n",
    "        support = global_itemset_with_supports[item]\n",
    "        subsets = powerset(item)\n",
    "        for subset in subsets:\n",
    "            lhs = frozenset(subset)\n",
    "            rhs = frozenset(element for element in item if element not in subset)\n",
    "            confidence = global_itemset_with_supports[lhs.union(rhs)]/global_itemset_with_supports[lhs]\n",
    "            if (confidence >= min_confidence):\n",
    "                lift = confidence / global_itemset_with_supports[rhs]\n",
    "                if lift >= min_lift:\n",
    "                    rules.append({\n",
    "                        'lhs': lhs,\n",
    "                        'rhs': rhs,\n",
    "                        'support': support,\n",
    "                        'confidence': confidence,\n",
    "                        'lift': lift\n",
    "                    })\n",
    "    return rules"
   ]
  },
  {
   "cell_type": "code",
   "execution_count": 8,
   "id": "bb76b720",
   "metadata": {},
   "outputs": [],
   "source": [
    "def improved_union(transactions):\n",
    "    for trans in transactions:\n",
    "        print(trans)"
   ]
  },
  {
   "cell_type": "code",
   "execution_count": 9,
   "id": "d7ca5bc4",
   "metadata": {},
   "outputs": [],
   "source": [
    "def apriori(transactions, min_support, min_confidence, min_lift, max_length):\n",
    "    itemset = create1Itemset(transactions)\n",
    "    global_itemset = {}\n",
    "    global_itemset_with_supports = {}\n",
    "    k = 2\n",
    "    while (itemset):\n",
    "        calc_support, global_itemset_with_supports = calculate_support(itemset, transactions, global_itemset_with_supports)\n",
    "        pruned, transactions = prune(calc_support, transactions, min_support)\n",
    "        if itemset:\n",
    "            itemset = set(pruned.keys())\n",
    "            global_itemset[k - 1] = itemset\n",
    "#             print(k)\n",
    "#             print(transactions)\n",
    "            itemset = getUnion(itemset, k)\n",
    "            k += 1\n",
    "            if k - 2 == max_length:\n",
    "                break\n",
    "    rules = association_rules(global_itemset[k - 2], global_itemset_with_supports, min_confidence, min_lift)\n",
    "    sorted_rules = sorted(rules, key=lambda x: x['lift'], reverse=True)\n",
    "    return sorted_rules"
   ]
  },
  {
   "cell_type": "code",
   "execution_count": 10,
   "id": "805e84b1",
   "metadata": {
    "scrolled": false
   },
   "outputs": [
    {
     "name": "stdout",
     "output_type": "stream",
     "text": [
      "[['Jam', 'Perfume', 'Snacks', 'Soap'], ['Beer', 'Bread', 'Jam', 'Snacks'], ['Potato', 'Onion'], ['Bread', 'Chocolate', 'Coffee', 'Jam'], ['Beer', 'Coffee', 'Perfume', 'Snacks', 'Soap'], ['Bread', 'Chocolate', 'Jam', 'Soap'], ['Onion', 'Perfume'], ['Bread', 'Chocolate', 'Snacks'], ['Chocolate', 'Perfume', 'Soap'], ['Beer', 'Bread', 'Jam', 'Snacks']]\n",
      "frozenset({'Coffee', 'Onion'})\n",
      "frozenset({'Bread', 'Perfume'})\n",
      "frozenset({'Potato', 'Soap'})\n",
      "frozenset({'Potato', 'Beer'})\n",
      "frozenset({'Potato', 'Jam'})\n",
      "frozenset({'Soap', 'Onion'})\n",
      "frozenset({'Beer', 'Onion'})\n",
      "frozenset({'Potato', 'Coffee'})\n",
      "frozenset({'Potato', 'Chocolate'})\n",
      "frozenset({'Potato', 'Snacks'})\n",
      "frozenset({'Beer', 'Chocolate'})\n",
      "frozenset({'Chocolate', 'Onion'})\n",
      "frozenset({'Jam', 'Onion'})\n",
      "frozenset({'Potato', 'Bread'})\n",
      "frozenset({'Potato', 'Perfume'})\n",
      "frozenset({'Onion', 'Bread'})\n",
      "frozenset({'Onion', 'Snacks'})\n",
      "[[], [], [], [], [], [], [], [], [], []]\n",
      "Elapsed time: 0.001508951187133789 seconds\n"
     ]
    }
   ],
   "source": [
    "import time\n",
    "start_time = time.time()\n",
    "res = apriori(transactions, 0.00030, 0.01, 3, 2)\n",
    "end_time = time.time()\n",
    "elapsed_time = end_time - start_time\n",
    "print(\"Elapsed time:\", elapsed_time, \"seconds\")"
   ]
  },
  {
   "cell_type": "code",
   "execution_count": 11,
   "id": "50325139",
   "metadata": {},
   "outputs": [
    {
     "data": {
      "text/html": [
       "<div>\n",
       "<style scoped>\n",
       "    .dataframe tbody tr th:only-of-type {\n",
       "        vertical-align: middle;\n",
       "    }\n",
       "\n",
       "    .dataframe tbody tr th {\n",
       "        vertical-align: top;\n",
       "    }\n",
       "\n",
       "    .dataframe thead th {\n",
       "        text-align: right;\n",
       "    }\n",
       "</style>\n",
       "<table border=\"1\" class=\"dataframe\">\n",
       "  <thead>\n",
       "    <tr style=\"text-align: right;\">\n",
       "      <th></th>\n",
       "      <th>lhs</th>\n",
       "      <th>rhs</th>\n",
       "      <th>support</th>\n",
       "      <th>confidence</th>\n",
       "      <th>lift</th>\n",
       "    </tr>\n",
       "  </thead>\n",
       "  <tbody>\n",
       "    <tr>\n",
       "      <th>0</th>\n",
       "      <td>(Potato)</td>\n",
       "      <td>(Onion)</td>\n",
       "      <td>0.1</td>\n",
       "      <td>1.0</td>\n",
       "      <td>5.0</td>\n",
       "    </tr>\n",
       "    <tr>\n",
       "      <th>1</th>\n",
       "      <td>(Onion)</td>\n",
       "      <td>(Potato)</td>\n",
       "      <td>0.1</td>\n",
       "      <td>0.5</td>\n",
       "      <td>5.0</td>\n",
       "    </tr>\n",
       "  </tbody>\n",
       "</table>\n",
       "</div>"
      ],
      "text/plain": [
       "        lhs       rhs  support  confidence  lift\n",
       "0  (Potato)   (Onion)      0.1         1.0   5.0\n",
       "1   (Onion)  (Potato)      0.1         0.5   5.0"
      ]
     },
     "execution_count": 11,
     "metadata": {},
     "output_type": "execute_result"
    }
   ],
   "source": [
    "resultsinDataFrame = pd.DataFrame(res, columns = ['lhs', 'rhs', 'support', 'confidence', 'lift'])\n",
    "resultsinDataFrame"
   ]
  }
 ],
 "metadata": {
  "kernelspec": {
   "display_name": "Python 3 (ipykernel)",
   "language": "python",
   "name": "python3"
  },
  "language_info": {
   "codemirror_mode": {
    "name": "ipython",
    "version": 3
   },
   "file_extension": ".py",
   "mimetype": "text/x-python",
   "name": "python",
   "nbconvert_exporter": "python",
   "pygments_lexer": "ipython3",
   "version": "3.10.9"
  }
 },
 "nbformat": 4,
 "nbformat_minor": 5
}
